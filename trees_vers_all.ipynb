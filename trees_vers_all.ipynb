{
  "nbformat": 4,
  "nbformat_minor": 0,
  "metadata": {
    "colab": {
      "name": "trees_vers_all.ipynb",
      "provenance": [],
      "collapsed_sections": []
    },
    "kernelspec": {
      "name": "python3",
      "display_name": "Python 3"
    },
    "language_info": {
      "name": "python"
    }
  },
  "cells": [
    {
      "cell_type": "markdown",
      "source": [
        "# Imports & Co"
      ],
      "metadata": {
        "id": "xwquhRiofF9_"
      }
    },
    {
      "cell_type": "code",
      "source": [
        "!pip install conllu"
      ],
      "metadata": {
        "colab": {
          "base_uri": "https://localhost:8080/"
        },
        "id": "ddmIoTmGjYo6",
        "outputId": "e7bb584c-19b6-4a7b-b505-076bd80757fa"
      },
      "execution_count": null,
      "outputs": [
        {
          "output_type": "stream",
          "name": "stdout",
          "text": [
            "Collecting conllu\n",
            "  Downloading conllu-4.4.2-py2.py3-none-any.whl (15 kB)\n",
            "Installing collected packages: conllu\n",
            "Successfully installed conllu-4.4.2\n"
          ]
        }
      ]
    },
    {
      "cell_type": "code",
      "source": [
        "from drive.MyDrive.trees.staff_func import *\n",
        "from time import time\n",
        "from tqdm import tqdm\n",
        "import os\n",
        "import json"
      ],
      "metadata": {
        "id": "v-psSXzhghe-"
      },
      "execution_count": null,
      "outputs": []
    },
    {
      "cell_type": "markdown",
      "source": [
        "# Verses"
      ],
      "metadata": {
        "id": "uXvT4fe4fJzX"
      }
    },
    {
      "cell_type": "code",
      "source": [
        "def encode_nodes(tree, cell_id=None, deprel_id=None):\n",
        "    if not cell_id:\n",
        "        cell_id = {Cell(): 0, }\n",
        "        deprel_id = {'root': 0, }\n",
        "\n",
        "    res_tree = []\n",
        "    node = make_cell(tree[0])\n",
        "    if node not in cell_id:\n",
        "        cell_id[node] = len(cell_id)\n",
        "    res_tree.append(cell_id[node])\n",
        "\n",
        "    for el in tree[1:]:\n",
        "        connect = el[0]\n",
        "        new_tree = el[1]\n",
        "        new_tree, cell_id, deprel_id = encode_nodes(new_tree, cell_id, deprel_id)\n",
        "        if connect not in deprel_id:\n",
        "            deprel_id[connect] = len(deprel_id)\n",
        "        res_tree.append([deprel_id[connect], new_tree])\n",
        "\n",
        "    return res_tree, cell_id, deprel_id"
      ],
      "metadata": {
        "id": "xBHv_aO6qH2k"
      },
      "execution_count": null,
      "outputs": []
    },
    {
      "cell_type": "code",
      "source": [
        "def iter_tree(tree, prev_node=None, prev_deprel=None, cur_node=None, freq_dict=None, freq_matrix=None, three_id=None,\n",
        "              root_freq=None, deprel_freq=None, deprel_line=None):\n",
        "    def _update_(el):\n",
        "        nonlocal three_id\n",
        "        if el not in three_id:\n",
        "            three_id[el] = len(three_id)\n",
        "        return three_id[el]\n",
        "\n",
        "    def _matrix_(el):\n",
        "        nonlocal freq_matrix, prev_deps\n",
        "        if el not in freq_matrix:\n",
        "            freq_matrix[el] = {}\n",
        "        for dep in prev_deps:\n",
        "            if dep not in freq_matrix[el]:\n",
        "                freq_matrix[el][dep] = 0\n",
        "            freq_matrix[el][dep] += 1\n",
        "\n",
        "    def _deprel_inner_(line, deps):\n",
        "        if len(line) > 0:\n",
        "            if line[0] not in deps:\n",
        "                deps[line[0]] = _deprel_inner_(line[1:], {})\n",
        "            else:\n",
        "                deps[line[0]] = _deprel_inner_(line[1:], deps[line[0]])\n",
        "        else:\n",
        "            if isinstance(deps, int):\n",
        "                return deps + 1\n",
        "            else:\n",
        "                return 1\n",
        "        return deps\n",
        "\n",
        "    def _deprel_(line, deps, l=2):\n",
        "        if len(line) < l:\n",
        "            line.extend([None for _ in range(l - len(line))])\n",
        "        for i in range(len(line) - l + 1):\n",
        "            deps = _deprel_inner_(line[i:i + l], deps)\n",
        "        return deps\n",
        "\n",
        "    # если самое начало, то создаем словари (вообще не используется, но мало ли)\n",
        "    if not freq_dict:\n",
        "        freq_dict = {}\n",
        "        three_id = {(None, 0, None): 0, }\n",
        "        freq_matrix = {}\n",
        "        root_freq = {}\n",
        "        deprel_line = []\n",
        "        deprel_freq = {}\n",
        "\n",
        "    # если корень, то вручную определяем все требуемые переменные\n",
        "    if not prev_node:\n",
        "        if len(tree) < 2:\n",
        "            return freq_dict, freq_matrix, three_id, root_freq\n",
        "        prev_node = _update_((None, tree[0], None))\n",
        "        prev_deprel = _update_((None, tree[1][0], None))\n",
        "        cur_node = _update_((None, tree[1][1][0], None))\n",
        "        tree = tree[1][1]\n",
        "        if cur_node not in root_freq:\n",
        "            root_freq[cur_node] = 0\n",
        "        root_freq[cur_node] += 1\n",
        "        deprel_line.append(prev_deprel)\n",
        "\n",
        "    # кладем на место все, что там не лежит\n",
        "    if prev_node not in freq_dict:\n",
        "        freq_dict[prev_node] = {}\n",
        "    if prev_deprel not in freq_dict[prev_node]:\n",
        "        freq_dict[prev_node][prev_deprel] = {}\n",
        "    if cur_node not in freq_dict[prev_node][prev_deprel]:\n",
        "        freq_dict[prev_node][prev_deprel][cur_node] = {}\n",
        "\n",
        "    # собираем уровень потомков в нужном виде\n",
        "    children = [[None, [None]], ]\n",
        "    if len(tree) > 1:\n",
        "        children.extend(tree[1:])\n",
        "    else:\n",
        "        children.append([None, [None]])\n",
        "    children.append([None, [None]])\n",
        "\n",
        "    # перебираем всех потомков на уровне по три\n",
        "    prev_deps = ['BOS', ]\n",
        "    for i in range(len(children) - 2):\n",
        "        deprel = _update_(tuple(([item[0] for item in children[i:i+3]])))\n",
        "        child = _update_(tuple(([item[1][0] for item in children[i:i+3]])))\n",
        "        new_tree = children[i + 1][1]\n",
        "        cur_dep = children[i + 1][0]\n",
        "\n",
        "        # кладем на место все оставшиеся данные\n",
        "        if deprel not in freq_dict[prev_node][prev_deprel][cur_node]:\n",
        "            freq_dict[prev_node][prev_deprel][cur_node][deprel] = {-1: 0, }\n",
        "        if child not in freq_dict[prev_node][prev_deprel][cur_node][deprel]:\n",
        "            freq_dict[prev_node][prev_deprel][cur_node][deprel][child] = 0\n",
        "        freq_dict[prev_node][prev_deprel][cur_node][deprel][-1] += 1\n",
        "        freq_dict[prev_node][prev_deprel][cur_node][deprel][child] += 1\n",
        "\n",
        "        _matrix_(cur_dep)\n",
        "        prev_deps.append(cur_dep)\n",
        "\n",
        "        # рекурсивно идем глубже по дереву\n",
        "        if new_tree != [None, ]:\n",
        "            freq_dict, freq_matrix, three_id, root_freq, deprel_freq = iter_tree(new_tree, cur_node, deprel, child,\n",
        "                                                                                 freq_dict, freq_matrix, three_id,\n",
        "                                                                                 root_freq, deprel_freq,\n",
        "                                                                                 deprel_line + [deprel, ])\n",
        "        else:\n",
        "            deprel_freq = _deprel_(deprel_line, deprel_freq)\n",
        "\n",
        "    _matrix_('EOS')\n",
        "\n",
        "    return freq_dict, freq_matrix, three_id, root_freq, deprel_freq"
      ],
      "metadata": {
        "id": "Enbpg9KrjANX"
      },
      "execution_count": null,
      "outputs": []
    },
    {
      "cell_type": "code",
      "source": [
        "def make_freq(data):\n",
        "    \"\"\"\n",
        "    Внешняя функция получения статистики\n",
        "    :param data: список распарсенных из conllu предложений\n",
        "    :return: dict\n",
        "    \"\"\"\n",
        "    deprel_id = {'root': 0, }\n",
        "    cell_id = {Cell(): 0, }\n",
        "    three_id = {(None, 0, None): 0, (None, None, None): 1}\n",
        "    freq_dict = {}\n",
        "    matrix = {}\n",
        "    roots = {}\n",
        "    deprel_freq = {}\n",
        "    i = 0\n",
        "    for tree in tqdm(data, total=len(data)):\n",
        "        tree, cell_id, deprel_id = encode_nodes(tree, cell_id=cell_id, deprel_id=deprel_id)\n",
        "        if len(tree) > 1:\n",
        "          freq_dict, matrix, three_id, roots, deprel_freq = iter_tree(tree, freq_dict=freq_dict, freq_matrix=matrix,\n",
        "                                                                    three_id=three_id, root_freq=roots,\n",
        "                                                                    deprel_freq=deprel_freq, deprel_line=[])\n",
        "        else:\n",
        "          i += 1\n",
        "    if i > 0:\n",
        "      print('empty: ', i)\n",
        "    return freq_dict, matrix, roots, three_id, cell_id, deprel_id, deprel_freq"
      ],
      "metadata": {
        "id": "3oQJHQY0jDR1"
      },
      "execution_count": null,
      "outputs": []
    },
    {
      "cell_type": "code",
      "source": [
        "def convert_for_json(three_id, cell_id, deprel_id):\n",
        "    \"\"\"\n",
        "    Преобразует данные с кодами так, чтрбы их было удобно сохранить в json и потом использовать\n",
        "    :param three_id: коды троек\n",
        "    :param cell_id: коды ячеек\n",
        "    :param deprel_id: коды связей\n",
        "    :return: list\n",
        "    \"\"\"\n",
        "    deprel_id = [key for key in sorted(deprel_id.keys(), key=lambda x: deprel_id[x])]\n",
        "    cell_id = [key.to_dict() for key in sorted(cell_id.keys(), key=lambda x: cell_id[x])]\n",
        "    three_id = [key for key in sorted(three_id.keys(), key=lambda x: three_id[x])]\n",
        "    return three_id, cell_id, deprel_id"
      ],
      "metadata": {
        "id": "xYeMUSRljGWN"
      },
      "execution_count": null,
      "outputs": []
    },
    {
      "cell_type": "markdown",
      "source": [
        "# Resave conllu > json"
      ],
      "metadata": {
        "id": "I8BHy-VGfSA_"
      }
    },
    {
      "cell_type": "code",
      "source": [
        "def get_tree_dct(sent, cur=0, cur_el=None):\n",
        "    tree = []\n",
        "\n",
        "    if cur == 0:  # если это первый элемент в предлодении, то превращаем предложение в формат {head: dependents}\n",
        "        new_sent = {}\n",
        "        for i in sent:\n",
        "            if (i.get('head', 0) is not None) and (i['upos'] not in ['_', 'PUNCT']):\n",
        "                if i.get('head', 0) not in new_sent:\n",
        "                    new_sent[i.get('head', 0)] = []\n",
        "                new_sent[i.get('head', 0)].append(i)\n",
        "        sent = new_sent\n",
        "\n",
        "    tree.append(make_cell(cur_el).to_dict())\n",
        "\n",
        "    cur_child = sent.get(cur, [])\n",
        "    for el in cur_child:  # для каждого элемента из потомков выполняем функцию рекурсивно\n",
        "        connect = el['deprel']\n",
        "        new_tree = get_tree_dct(sent, el['id'], el)\n",
        "        tree.append([connect, new_tree])\n",
        "    return tree"
      ],
      "metadata": {
        "id": "NxUN_-M1gi1X"
      },
      "execution_count": null,
      "outputs": []
    },
    {
      "cell_type": "code",
      "source": [
        "def resave_json(cur_dir, res_dir):\n",
        "    with open(cur_dir, encoding='utf-8') as f:\n",
        "        data = parse_conllu(f.read())\n",
        "    new_data = []\n",
        "    for el in tqdm(data, total=len(data)):\n",
        "        new_data.append(get_tree_dct(el))\n",
        "    print(len(new_data))\n",
        "    with open(res_dir, 'w', encoding='utf-8') as f:\n",
        "        json.dump(new_data, f)"
      ],
      "metadata": {
        "id": "TjLGf5NvfXb7"
      },
      "execution_count": null,
      "outputs": []
    },
    {
      "cell_type": "code",
      "source": [
        "def resave_json_all(path='/content/drive/MyDrive/trees'):\n",
        "    names = ['foreign_love_stories', ]\n",
        "    for name in names:\n",
        "        print(name)\n",
        "        cur_dir = f'{path}/rus/{name}_1m.conllu'\n",
        "        res_dir = f'{path}/trees_data/rus/{name}.json'\n",
        "        resave_json(cur_dir, res_dir)"
      ],
      "metadata": {
        "id": "K2ht47oNlSlT"
      },
      "execution_count": null,
      "outputs": []
    },
    {
      "cell_type": "code",
      "source": [
        "# resave_json_all()"
      ],
      "metadata": {
        "id": "1kihQXJwm-f_"
      },
      "execution_count": null,
      "outputs": []
    },
    {
      "cell_type": "markdown",
      "source": [
        "# Get verses"
      ],
      "metadata": {
        "id": "JlYMHZIqnDwF"
      }
    },
    {
      "cell_type": "code",
      "source": [
        "def get_vers_one(cur_dir, res_dir):\n",
        "    names = ['freq', 'matrix', 'roots', 'three', 'cell', 'deprel', 'deprel_freq']\n",
        "    with open(cur_dir, encoding='utf-8') as f:\n",
        "        data = json.load(f)\n",
        "    res = make_freq(data)\n",
        "    res = res[0:3] + convert_for_json(*res[3:6]) + res[6:]\n",
        "    try:\n",
        "        os.mkdir(res_dir)\n",
        "    except FileExistsError:\n",
        "        pass\n",
        "    for i in range(len(res)):\n",
        "        s = f'{res_dir}/{names[i]}.json'\n",
        "        save_json(s, res[i], cur_dir='', mode='w')"
      ],
      "metadata": {
        "id": "xAK1hL2xoUvc"
      },
      "execution_count": null,
      "outputs": []
    },
    {
      "cell_type": "code",
      "source": [
        "def get_vers_all(path='/content/drive/MyDrive/trees'):\n",
        "    names = ['detective_for_kidds', 'detective_masters', 'fontanka', 'foreign_love_stories', 'habr', 'membrana']\n",
        "    for name in names:\n",
        "        print(name)\n",
        "        cur_dir = f'{path}/trees_data/rus/{name}.json'\n",
        "        res_dir = f'{path}/data/rus/{name}'\n",
        "\n",
        "        get_vers_one(cur_dir, res_dir)"
      ],
      "metadata": {
        "id": "a6wdv6ForT0v"
      },
      "execution_count": null,
      "outputs": []
    },
    {
      "cell_type": "code",
      "source": [
        "get_vers_all()"
      ],
      "metadata": {
        "colab": {
          "base_uri": "https://localhost:8080/"
        },
        "id": "HLXYkYSlsI7C",
        "outputId": "2bff1ad0-d0f4-4273-d31e-6b484b0244af"
      },
      "execution_count": null,
      "outputs": [
        {
          "output_type": "stream",
          "name": "stdout",
          "text": [
            "detective_for_kidds\n"
          ]
        },
        {
          "output_type": "stream",
          "name": "stderr",
          "text": [
            "100%|██████████| 81298/81298 [00:28<00:00, 2885.27it/s]\n"
          ]
        },
        {
          "output_type": "stream",
          "name": "stdout",
          "text": [
            "empty:  10\n",
            "detective_masters\n"
          ]
        },
        {
          "output_type": "stream",
          "name": "stderr",
          "text": [
            "100%|██████████| 79159/79159 [00:28<00:00, 2733.49it/s]\n"
          ]
        },
        {
          "output_type": "stream",
          "name": "stdout",
          "text": [
            "empty:  9\n",
            "fontanka\n"
          ]
        },
        {
          "output_type": "stream",
          "name": "stderr",
          "text": [
            "100%|██████████| 61190/61190 [00:26<00:00, 2268.20it/s]\n"
          ]
        },
        {
          "output_type": "stream",
          "name": "stdout",
          "text": [
            "empty:  3\n",
            "foreign_love_stories\n"
          ]
        },
        {
          "output_type": "stream",
          "name": "stderr",
          "text": [
            "100%|██████████| 77625/77625 [00:25<00:00, 3084.98it/s]\n"
          ]
        },
        {
          "output_type": "stream",
          "name": "stdout",
          "text": [
            "empty:  25\n",
            "habr\n"
          ]
        },
        {
          "output_type": "stream",
          "name": "stderr",
          "text": [
            "100%|██████████| 55675/55675 [00:31<00:00, 1795.07it/s]\n"
          ]
        },
        {
          "output_type": "stream",
          "name": "stdout",
          "text": [
            "empty:  28\n",
            "membrana\n"
          ]
        },
        {
          "output_type": "stream",
          "name": "stderr",
          "text": [
            "100%|██████████| 44304/44304 [00:31<00:00, 1422.68it/s]\n"
          ]
        }
      ]
    },
    {
      "cell_type": "code",
      "source": [
        ""
      ],
      "metadata": {
        "id": "qNnwZ5QgWZET"
      },
      "execution_count": null,
      "outputs": []
    }
  ]
}